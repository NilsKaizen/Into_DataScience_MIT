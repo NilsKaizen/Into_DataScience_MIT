{
 "cells": [
  {
   "cell_type": "markdown",
   "metadata": {},
   "source": [
    "# Load Cows File\n"
   ]
  },
  {
   "cell_type": "code",
   "execution_count": 1,
   "metadata": {},
   "outputs": [
    {
     "name": "stdout",
     "output_type": "stream",
     "text": [
      "{'Maggie': 3, 'Herman': 7, 'Betsy': 9, 'Oreo': 6, 'Moo Moo': 3, 'Milkshake': 2, 'Millie': 5, 'Lola': 2, 'Florence': 2, 'Henrietta': 9}\n"
     ]
    }
   ],
   "source": [
    "def load_cows(filename):\n",
    "    \"\"\"\n",
    "    Read the contents of the given file.  Assumes the file contents contain\n",
    "    data in the form of comma-separated cow name, weight pairs, and return a\n",
    "    dictionary containing cow names as keys and corresponding weights as values.\n",
    "\n",
    "    Parameters:\n",
    "    filename - the name of the data file as a string\n",
    "\n",
    "    Returns:\n",
    "    a dictionary of cow name (string), weight (int) pairs\n",
    "    \"\"\"\n",
    "    # TODO: Your code here\n",
    "    with open(filename) as f:\n",
    "        data = f.read()\n",
    "        \n",
    "        # Create a list of cows\n",
    "        cow_data = data.split('\\n')\n",
    "        \n",
    "        # Create a dict of cow name and weight\n",
    "        c_data_dict = {cow.split(',')[0] : int(cow.split(',')[1]) for cow in cow_data}\n",
    "        f.close()\n",
    "    return c_data_dict\n",
    "\n",
    "print(load_cows('ps1_cow_data.txt'))"
   ]
  },
  {
   "cell_type": "markdown",
   "metadata": {},
   "source": [
    "## Greedy Algorithm"
   ]
  },
  {
   "cell_type": "code",
   "execution_count": 2,
   "metadata": {},
   "outputs": [],
   "source": [
    "def greedy_cow_transport(cows, limit=10):\n",
    "    \"\"\"\n",
    "    Uses a greedy heuristic to determine an allocation of cows that attempts to\n",
    "    minimize the number of spaceship trips needed to transport all the cows. The\n",
    "    returned allocation of cows may or may not be optimal.\n",
    "    The greedy heuristic should follow the following method:\n",
    "\n",
    "    1. As long as the current trip can fit another cow, add the largest cow that will fit\n",
    "        to the trip\n",
    "    2. Once the trip is full, begin a new trip to transport the remaining cows\n",
    "\n",
    "    Does not mutate the given dictionary of cows.\n",
    "\n",
    "    Parameters:\n",
    "    cows - a dictionary of name (string), weight (int) pairs\n",
    "    limit - weight limit of the spaceship (an int)\n",
    "    \n",
    "    Returns:\n",
    "    A list of lists, with each inner list containing the names of cows\n",
    "    transported on a particular trip and the overall list containing all the\n",
    "    trips\n",
    "    \"\"\"\n",
    "    # TODO: Your code here\n",
    "    \n",
    "    c_sort = sorted(cows.items(), key= lambda item: item[1], reverse=True)\n",
    "    \n",
    "    # Trips and cows\n",
    "    t_a_c = []\n",
    "    \n",
    "    # List of cows\n",
    "    c_list = []\n",
    "    \n",
    "    # Limit\n",
    "    l = limit\n",
    "    \n",
    "    # Reset and create new list\n",
    "    def reset(): \n",
    " \n",
    "        l = limit\n",
    "        t_a_c.append(c_list.copy())\n",
    "\n",
    "        c_list.clear()\n",
    "        \n",
    "    def add_cow(l):\n",
    "\n",
    "        temp = c_sort.copy()\n",
    "        for cow in temp: \n",
    "\n",
    "            if int(cow[1]) <= l:\n",
    "                \n",
    "                c_list.append(c_sort.pop(c_sort.index(cow)))\n",
    "                l -= int(cow[1])\n",
    "                try:\n",
    "                    # Check if the smallest cow can fit, otherwise break the loop\n",
    "                    if int(c_sort[-1][1]) > l: break\n",
    "                except: \n",
    "#                     print('no more cows')\n",
    "                    pass\n",
    "                    \n",
    "        \n",
    "    while len(c_sort) > 0:\n",
    "        add_cow(l)\n",
    "        reset()\n",
    "   \n",
    "\n",
    "    return t_a_c\n",
    "\n"
   ]
  },
  {
   "cell_type": "code",
   "execution_count": 15,
   "metadata": {},
   "outputs": [
    {
     "name": "stdout",
     "output_type": "stream",
     "text": [
      "6\n",
      "[[('Betsy', 9)], [('Henrietta', 9)], [('Herman', 7), ('Maggie', 3)], [('Oreo', 6), ('Moo Moo', 3)], [('Millie', 5), ('Milkshake', 2), ('Lola', 2)], [('Florence', 2)]]\n"
     ]
    }
   ],
   "source": [
    "result = greedy_cow_transport(load_cows('ps1_cow_data.txt'))\n",
    "print(len(result))\n",
    "print(result)"
   ]
  },
  {
   "cell_type": "markdown",
   "metadata": {},
   "source": [
    "## Brute Force Algorithm"
   ]
  },
  {
   "cell_type": "code",
   "execution_count": 4,
   "metadata": {},
   "outputs": [],
   "source": [
    "# From codereview.stackexchange.com                    \n",
    "def partitions(set_):\n",
    "    if not set_:\n",
    "        yield []\n",
    "        return\n",
    "    for i in range(2**len(set_)//2):\n",
    "        parts = [set(), set()]\n",
    "        for item in set_:\n",
    "            parts[i&1].add(item)\n",
    "            i >>= 1\n",
    "        for b in partitions(parts[1]):\n",
    "            yield [parts[0]]+b\n",
    "\n",
    "def get_partitions(set_):\n",
    "    for partition in partitions(set_):\n",
    "        yield [list(elt) for elt in partition]\n"
   ]
  },
  {
   "cell_type": "code",
   "execution_count": 5,
   "metadata": {},
   "outputs": [
    {
     "name": "stdout",
     "output_type": "stream",
     "text": [
      "0\n",
      "0\n",
      "1\n",
      "1\n",
      "2\n"
     ]
    }
   ],
   "source": [
    "for i in [0,1,2,3,4]:\n",
    "    print(i >> 1)"
   ]
  },
  {
   "cell_type": "code",
   "execution_count": 35,
   "metadata": {},
   "outputs": [],
   "source": [
    "def brute_force_cow_transport(cows, limit=10):\n",
    "    \"\"\"\n",
    "    Finds the allocation of cows that minimizes the number of spaceship trips\n",
    "    via brute force.  The brute force algorithm should follow the following method:\n",
    "\n",
    "    1. Enumerate all possible ways that the cows can be divided into separate trips \n",
    "        Use the given get_partitions function in ps1_partition.py to help you!\n",
    "    2. Select the allocation that minimizes the number of trips without making any trip\n",
    "        that does not obey the weight limitation\n",
    "            \n",
    "    Does not mutate the given dictionary of cows.\n",
    "\n",
    "    Parameters:\n",
    "    cows - a dictionary of name (string), weight (int) pairs\n",
    "    limit - weight limit of the spaceship (an int)\n",
    "    \n",
    "    Returns:\n",
    "    A list of lists, with each inner list containing the names of cows\n",
    "    transported on a particular trip and the overall list containing all the\n",
    "    trips\n",
    "    \"\"\"\n",
    "    # Make a copy of the data\n",
    "    cows_data = cows.copy()\n",
    "    \n",
    "    # Create an exeption to get out of all loops\n",
    "    class GetOutOfLoop( Exception ):\n",
    "        pass\n",
    "    \n",
    "    # All combinations of trips that are below or equal the limit\n",
    "    trips_to_check = []\n",
    "    \n",
    "    def check_trips(trips):\n",
    "        try: \n",
    "            for trip in trips:\n",
    "                total = 0\n",
    "                for cow in trip: \n",
    "                    total += int(cow[1])\n",
    "                    # if one of the trips is over weight the trips won't be saved\n",
    "                    if total > limit: \n",
    "                        raise GetOutOfLoop\n",
    "        except GetOutOfLoop:\n",
    "            return 0\n",
    "        return 1\n",
    "            \n",
    "    i=0\n",
    "    for trips in get_partitions(cows_data.items()):\n",
    "        i +=1\n",
    "        \n",
    "        if check_trips(trips) == 1:\n",
    "            trips_to_check.append(trips)\n",
    "#     print(i)\n",
    "    return min(trips_to_check, key= len)"
   ]
  },
  {
   "cell_type": "code",
   "execution_count": 31,
   "metadata": {},
   "outputs": [
    {
     "name": "stdout",
     "output_type": "stream",
     "text": [
      "115975\n",
      "5\n",
      "[[('Henrietta', 9)], [('Florence', 2), ('Oreo', 6), ('Milkshake', 2)], [('Herman', 7), ('Moo Moo', 3)], [('Maggie', 3), ('Lola', 2), ('Millie', 5)], [('Betsy', 9)]]\n"
     ]
    }
   ],
   "source": [
    "result = brute_force_cow_transport(load_cows('ps1_cow_data.txt'), 10)\n",
    "print(len(result))\n",
    "print(result)"
   ]
  },
  {
   "cell_type": "markdown",
   "metadata": {},
   "source": [
    " ## Compare Algorithms"
   ]
  },
  {
   "cell_type": "code",
   "execution_count": 46,
   "metadata": {},
   "outputs": [],
   "source": [
    "import pandas as pd\n",
    "import time"
   ]
  },
  {
   "cell_type": "code",
   "execution_count": 55,
   "metadata": {},
   "outputs": [],
   "source": [
    "def compare_cow_transport_algorithms(cows, limit=10):\n",
    "    \"\"\"\n",
    "    Using the data from ps1_cow_data.txt and the specified weight limit, run your\n",
    "    greedy_cow_transport and brute_force_cow_transport functions here. Use the\n",
    "    default weight limits of 10 for both greedy_cow_transport and\n",
    "    brute_force_cow_transport.\n",
    "    \n",
    "    Print out the number of trips returned by each method, and how long each\n",
    "    method takes to run in seconds.\n",
    "\n",
    "    Returns:\n",
    "    Does not return anything.\n",
    "    \"\"\"\n",
    "    g_start = time.time()\n",
    "    r_greedy = greedy_cow_transport(cows, limit)\n",
    "    g_end = time.time()\n",
    "    b_start = time.time()\n",
    "    r_brute = brute_force_cow_transport(cows, limit)\n",
    "    b_end = time.time()\n",
    "    \n",
    "    g_time = g_end - g_start\n",
    "    b_time = b_end - b_start\n",
    "    \n",
    "    dict_results = {'Algorithm': ['Greedy', 'Brute Force'],\n",
    "                      'Time': [g_time, b_time],\n",
    "                      'Trips': [len(r_greedy), len(r_brute)],\n",
    "                       'Result': [r_greedy, r_brute]}\n",
    "    df = pd.DataFrame(dict_results, columns = ['Algorithm', 'Time', 'Trips', 'Result'])\n",
    "    return df\n",
    "    \n",
    "#     print('Comparation of two algorithms: ')\n",
    "#     print('Greedy got: ' + str(len(r_greedy)) + ' trips')\n",
    "#     print(r_greedy)\n",
    "#     print(' ')\n",
    "#     print('Brute got: ' + str(len(r_brute)) + ' trips')\n",
    "#     print(r_brute)"
   ]
  },
  {
   "cell_type": "code",
   "execution_count": 67,
   "metadata": {},
   "outputs": [
    {
     "data": {
      "text/html": [
       "<div>\n",
       "<style scoped>\n",
       "    .dataframe tbody tr th:only-of-type {\n",
       "        vertical-align: middle;\n",
       "    }\n",
       "\n",
       "    .dataframe tbody tr th {\n",
       "        vertical-align: top;\n",
       "    }\n",
       "\n",
       "    .dataframe thead th {\n",
       "        text-align: right;\n",
       "    }\n",
       "</style>\n",
       "<table border=\"1\" class=\"dataframe\">\n",
       "  <thead>\n",
       "    <tr style=\"text-align: right;\">\n",
       "      <th></th>\n",
       "      <th>Algorithm</th>\n",
       "      <th>Time</th>\n",
       "      <th>Trips</th>\n",
       "      <th>Result</th>\n",
       "    </tr>\n",
       "  </thead>\n",
       "  <tbody>\n",
       "    <tr>\n",
       "      <th>0</th>\n",
       "      <td>Greedy</td>\n",
       "      <td>0.000000</td>\n",
       "      <td>6</td>\n",
       "      <td>[[(Betsy, 9)], [(Henrietta, 9)], [(Herman, 7),...</td>\n",
       "    </tr>\n",
       "    <tr>\n",
       "      <th>1</th>\n",
       "      <td>Brute Force</td>\n",
       "      <td>0.631452</td>\n",
       "      <td>5</td>\n",
       "      <td>[[(Henrietta, 9)], [(Florence, 2), (Oreo, 6), ...</td>\n",
       "    </tr>\n",
       "  </tbody>\n",
       "</table>\n",
       "</div>"
      ],
      "text/plain": [
       "     Algorithm      Time  Trips  \\\n",
       "0       Greedy  0.000000      6   \n",
       "1  Brute Force  0.631452      5   \n",
       "\n",
       "                                              Result  \n",
       "0  [[(Betsy, 9)], [(Henrietta, 9)], [(Herman, 7),...  \n",
       "1  [[(Henrietta, 9)], [(Florence, 2), (Oreo, 6), ...  "
      ]
     },
     "execution_count": 67,
     "metadata": {},
     "output_type": "execute_result"
    }
   ],
   "source": [
    "compare_cow_transport_algorithms(load_cows('ps1_cow_data.txt'), 10)"
   ]
  }
 ],
 "metadata": {
  "kernelspec": {
   "display_name": "Python 3",
   "language": "python",
   "name": "python3"
  },
  "language_info": {
   "codemirror_mode": {
    "name": "ipython",
    "version": 3
   },
   "file_extension": ".py",
   "mimetype": "text/x-python",
   "name": "python",
   "nbconvert_exporter": "python",
   "pygments_lexer": "ipython3",
   "version": "3.8.3"
  }
 },
 "nbformat": 4,
 "nbformat_minor": 4
}
